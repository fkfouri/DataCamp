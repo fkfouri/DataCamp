{
 "cells": [
  {
   "cell_type": "code",
   "execution_count": 1,
   "metadata": {},
   "outputs": [],
   "source": [
    "try:\n",
    "    !pip install pyspark==\"2.4.5\"  --quiet\n",
    "except:\n",
    " print(\"Running throw py file.\")"
   ]
  },
  {
   "cell_type": "code",
   "execution_count": 10,
   "metadata": {},
   "outputs": [],
   "source": [
    "from pyspark import SparkContext as sc\n",
    "from pyspark.sql import SparkSession\n",
    "from pyspark.sql import functions as F\n",
    "from pyspark import SparkFiles\n",
    "from pyspark.sql.types import StringType, BooleanType, IntegerType, FloatType, ArrayType\n",
    "import pyspark"
   ]
  },
  {
   "cell_type": "code",
   "execution_count": 3,
   "metadata": {},
   "outputs": [],
   "source": [
    "spark = SparkSession\\\n",
    "        .builder\\\n",
    "        .appName(\"Estudo Spark - UDF Functions - Fabio Kfouri\")\\\n",
    "        .getOrCreate()"
   ]
  },
  {
   "cell_type": "markdown",
   "metadata": {},
   "source": [
    "## Leitura de dados usando uma fonte pública"
   ]
  },
  {
   "cell_type": "markdown",
   "metadata": {},
   "source": [
    "Fonte de Dados:\n",
    "\n",
    "https://data.humdata.org/dataset/faostat-prices-for-brazil"
   ]
  },
  {
   "cell_type": "code",
   "execution_count": 4,
   "metadata": {},
   "outputs": [],
   "source": [
    "spark.sparkContext.addFile('https://data.humdata.org/dataset/bdf7bcca-28ae-47c5-8993-c87a7c5c04c0/resource/c16c15f5-efaf-4950-b848-94935987d312/download/producer-prices_bra.csv')"
   ]
  },
  {
   "cell_type": "code",
   "execution_count": 5,
   "metadata": {},
   "outputs": [],
   "source": [
    "df = spark.read.csv(SparkFiles.get(\"producer-prices_bra.csv\"), header = True, sep = \",\")"
   ]
  },
  {
   "cell_type": "code",
   "execution_count": 6,
   "metadata": {},
   "outputs": [
    {
     "name": "stdout",
     "output_type": "stream",
     "text": [
      "+-------------+-----------+----------+---------+-------------+---------------+---------------+------------+--------------------------+---------+----------+-----------+------------+---------------+--------------------+----+\n",
      "|Iso3         |StartDate  |EndDate   |Area Code|Area         |Item Code      |Item           |Element Code|Element                   |Year Code|Year      |Months Code|Months      |Unit           |Value               |Flag|\n",
      "+-------------+-----------+----------+---------+-------------+---------------+---------------+------------+--------------------------+---------+----------+-----------+------------+---------------+--------------------+----+\n",
      "|#country+code|#date+start|#date+end |null     |#country+name|#indicator+code|#indicator+name|null        |null                      |null     |#date+year|null       |null        |#indicator+type|#indicator+value+num|null|\n",
      "|BRA          |1991-01-01 |1991-12-31|21       |Brazil       |515            |Apples         |5530        |Producer Price (LCU/tonne)|1991     |1991      |7021       |Annual value|LCU            |105691.000000       |*   |\n",
      "|BRA          |1992-01-01 |1992-12-31|21       |Brazil       |515            |Apples         |5530        |Producer Price (LCU/tonne)|1992     |1992      |7021       |Annual value|LCU            |1969620.000000      |*   |\n",
      "|BRA          |1993-01-01 |1993-12-31|21       |Brazil       |515            |Apples         |5530        |Producer Price (LCU/tonne)|1993     |1993      |7021       |Annual value|LCU            |26770.000000        |*   |\n",
      "|BRA          |1994-01-01 |1994-12-31|21       |Brazil       |515            |Apples         |5530        |Producer Price (LCU/tonne)|1994     |1994      |7021       |Annual value|LCU            |258.000000          |*   |\n",
      "+-------------+-----------+----------+---------+-------------+---------------+---------------+------------+--------------------------+---------+----------+-----------+------------+---------------+--------------------+----+\n",
      "only showing top 5 rows\n",
      "\n"
     ]
    }
   ],
   "source": [
    "df.show(5, False)"
   ]
  },
  {
   "cell_type": "code",
   "execution_count": 7,
   "metadata": {},
   "outputs": [
    {
     "name": "stdout",
     "output_type": "stream",
     "text": [
      "root\n",
      " |-- Iso3: string (nullable = true)\n",
      " |-- StartDate: string (nullable = true)\n",
      " |-- EndDate: string (nullable = true)\n",
      " |-- Area Code: string (nullable = true)\n",
      " |-- Area: string (nullable = true)\n",
      " |-- Item Code: string (nullable = true)\n",
      " |-- Item: string (nullable = true)\n",
      " |-- Element Code: string (nullable = true)\n",
      " |-- Element: string (nullable = true)\n",
      " |-- Year Code: string (nullable = true)\n",
      " |-- Year: string (nullable = true)\n",
      " |-- Months Code: string (nullable = true)\n",
      " |-- Months: string (nullable = true)\n",
      " |-- Unit: string (nullable = true)\n",
      " |-- Value: string (nullable = true)\n",
      " |-- Flag: string (nullable = true)\n",
      "\n"
     ]
    }
   ],
   "source": [
    "df.printSchema()"
   ]
  },
  {
   "cell_type": "code",
   "execution_count": 8,
   "metadata": {},
   "outputs": [],
   "source": [
    "df = df.filter(\"Iso3 <> '#country+code'\")\\\n",
    "    .withColumn('Value',df[\"Value\"].cast('float'))\\\n",
    "    .withColumn('StartDate', F.to_date('StartDate', 'yyyy-MM-dd'))\\\n",
    "    .withColumn('EndDate', F.to_date('EndDate', 'yyyy-MM-dd'))"
   ]
  },
  {
   "cell_type": "code",
   "execution_count": 9,
   "metadata": {},
   "outputs": [
    {
     "name": "stdout",
     "output_type": "stream",
     "text": [
      "root\n",
      " |-- Iso3: string (nullable = true)\n",
      " |-- StartDate: date (nullable = true)\n",
      " |-- EndDate: date (nullable = true)\n",
      " |-- Area Code: string (nullable = true)\n",
      " |-- Area: string (nullable = true)\n",
      " |-- Item Code: string (nullable = true)\n",
      " |-- Item: string (nullable = true)\n",
      " |-- Element Code: string (nullable = true)\n",
      " |-- Element: string (nullable = true)\n",
      " |-- Year Code: string (nullable = true)\n",
      " |-- Year: string (nullable = true)\n",
      " |-- Months Code: string (nullable = true)\n",
      " |-- Months: string (nullable = true)\n",
      " |-- Unit: string (nullable = true)\n",
      " |-- Value: float (nullable = true)\n",
      " |-- Flag: string (nullable = true)\n",
      "\n"
     ]
    }
   ],
   "source": [
    "df.printSchema()"
   ]
  },
  {
   "cell_type": "markdown",
   "metadata": {},
   "source": [
    "## Criando um boolean UDF"
   ]
  },
  {
   "cell_type": "code",
   "execution_count": 11,
   "metadata": {},
   "outputs": [],
   "source": [
    "short_udf = F.udf(lambda x:\\\n",
    "                 True if not x or len(x) < 6 else False, BooleanType())"
   ]
  },
  {
   "cell_type": "code",
   "execution_count": 14,
   "metadata": {},
   "outputs": [
    {
     "name": "stdout",
     "output_type": "stream",
     "text": [
      "+--------------+\n",
      "|<lambda>(item)|\n",
      "+--------------+\n",
      "|          true|\n",
      "|         false|\n",
      "+--------------+\n",
      "\n"
     ]
    }
   ],
   "source": [
    "df.select(short_udf('item')).alias(\"is short\").distinct().show()"
   ]
  },
  {
   "cell_type": "code",
   "execution_count": 21,
   "metadata": {},
   "outputs": [
    {
     "name": "stdout",
     "output_type": "stream",
     "text": [
      "+------------------------+\n",
      "|item                    |\n",
      "+------------------------+\n",
      "|Meat live weight, pig   |\n",
      "|Fruit excl Melons, Total|\n",
      "|Fibre Crops Primary     |\n",
      "|Milk, whole fresh cow   |\n",
      "|Pineapples              |\n",
      "|Meat, turkey            |\n",
      "|Potatoes                |\n",
      "|Roots and Tubers, Total |\n",
      "|Coffee, green           |\n",
      "|Cotton lint             |\n",
      "+------------------------+\n",
      "only showing top 10 rows\n",
      "\n"
     ]
    }
   ],
   "source": [
    "df.select(\"item\").distinct().show(10,False)"
   ]
  },
  {
   "cell_type": "markdown",
   "metadata": {},
   "source": [
    "## Trabalhando com array"
   ]
  },
  {
   "cell_type": "code",
   "execution_count": 27,
   "metadata": {},
   "outputs": [],
   "source": [
    "df1 = df.withColumn('words', F.split('item', '[ ]'))"
   ]
  },
  {
   "cell_type": "code",
   "execution_count": 29,
   "metadata": {},
   "outputs": [
    {
     "name": "stdout",
     "output_type": "stream",
     "text": [
      "+----+----------+----------+---------+------+---------+------+------------+--------------------+---------+----+-----------+------------+----+---------+----+--------+\n",
      "|Iso3| StartDate|   EndDate|Area Code|  Area|Item Code|  Item|Element Code|             Element|Year Code|Year|Months Code|      Months|Unit|    Value|Flag|   words|\n",
      "+----+----------+----------+---------+------+---------+------+------------+--------------------+---------+----+-----------+------------+----+---------+----+--------+\n",
      "| BRA|1991-01-01|1991-12-31|       21|Brazil|      515|Apples|        5530|Producer Price (L...|     1991|1991|       7021|Annual value| LCU| 105691.0|   *|[Apples]|\n",
      "| BRA|1992-01-01|1992-12-31|       21|Brazil|      515|Apples|        5530|Producer Price (L...|     1992|1992|       7021|Annual value| LCU|1969620.0|   *|[Apples]|\n",
      "| BRA|1993-01-01|1993-12-31|       21|Brazil|      515|Apples|        5530|Producer Price (L...|     1993|1993|       7021|Annual value| LCU|  26770.0|   *|[Apples]|\n",
      "| BRA|1994-01-01|1994-12-31|       21|Brazil|      515|Apples|        5530|Producer Price (L...|     1994|1994|       7021|Annual value| LCU|    258.0|   *|[Apples]|\n",
      "+----+----------+----------+---------+------+---------+------+------------+--------------------+---------+----+-----------+------------+----+---------+----+--------+\n",
      "only showing top 4 rows\n",
      "\n"
     ]
    }
   ],
   "source": [
    "df1.show(4)"
   ]
  },
  {
   "cell_type": "code",
   "execution_count": null,
   "metadata": {},
   "outputs": [],
   "source": []
  },
  {
   "cell_type": "code",
   "execution_count": null,
   "metadata": {},
   "outputs": [],
   "source": []
  },
  {
   "cell_type": "code",
   "execution_count": null,
   "metadata": {},
   "outputs": [],
   "source": []
  },
  {
   "cell_type": "code",
   "execution_count": null,
   "metadata": {},
   "outputs": [],
   "source": []
  },
  {
   "cell_type": "code",
   "execution_count": null,
   "metadata": {},
   "outputs": [],
   "source": []
  },
  {
   "cell_type": "code",
   "execution_count": null,
   "metadata": {},
   "outputs": [],
   "source": []
  },
  {
   "cell_type": "code",
   "execution_count": null,
   "metadata": {},
   "outputs": [],
   "source": []
  },
  {
   "cell_type": "code",
   "execution_count": null,
   "metadata": {},
   "outputs": [],
   "source": []
  }
 ],
 "metadata": {
  "kernelspec": {
   "display_name": "Python 3",
   "language": "python",
   "name": "python3"
  },
  "language_info": {
   "codemirror_mode": {
    "name": "ipython",
    "version": 3
   },
   "file_extension": ".py",
   "mimetype": "text/x-python",
   "name": "python",
   "nbconvert_exporter": "python",
   "pygments_lexer": "ipython3",
   "version": "3.7.4"
  }
 },
 "nbformat": 4,
 "nbformat_minor": 2
}
