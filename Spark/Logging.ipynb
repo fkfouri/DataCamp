{
 "cells": [
  {
   "cell_type": "code",
   "execution_count": 1,
   "metadata": {},
   "outputs": [],
   "source": [
    "import logging\n",
    "import sys"
   ]
  },
  {
   "cell_type": "markdown",
   "metadata": {},
   "source": [
    "Define o nivel de log para o nível de informaçoes.\n",
    "\n",
    "Cada mensagem log imprime a hora, o nível de log da instrução e a própria mensagem"
   ]
  },
  {
   "cell_type": "markdown",
   "metadata": {},
   "source": [
    "## Limpeza das definicoes de logging.basicConfig"
   ]
  },
  {
   "cell_type": "code",
   "execution_count": 2,
   "metadata": {},
   "outputs": [],
   "source": [
    "def cleanLogging():\n",
    "    # Remove all handlers associated with the root logger object.\n",
    "    for handler in logging.root.handlers[:]:\n",
    "        logging.root.removeHandler(handler)"
   ]
  },
  {
   "cell_type": "markdown",
   "metadata": {},
   "source": [
    "## Logging em nivel de Info"
   ]
  },
  {
   "cell_type": "code",
   "execution_count": 3,
   "metadata": {},
   "outputs": [],
   "source": [
    "cleanLogging()\n",
    "logging.basicConfig(stream=sys.stdout, level=logging.INFO, \n",
    "                    format = '%(asctime)s -%(levelname)s - %(module)s [%(process)d]: %(message)s ')"
   ]
  },
  {
   "cell_type": "markdown",
   "metadata": {},
   "source": [
    "A primeira exibe a informaçao de loggin"
   ]
  },
  {
   "cell_type": "code",
   "execution_count": 4,
   "metadata": {},
   "outputs": [
    {
     "name": "stdout",
     "output_type": "stream",
     "text": [
      "2020-06-28 11:32:55,460 -INFO - <ipython-input-4-5da2ebfe1cd3> [3996]: Hello world \n"
     ]
    }
   ],
   "source": [
    "logging.info('Hello %s' , 'world')"
   ]
  },
  {
   "cell_type": "markdown",
   "metadata": {},
   "source": [
    "Log em nível de depuraçao"
   ]
  },
  {
   "cell_type": "code",
   "execution_count": 5,
   "metadata": {},
   "outputs": [],
   "source": [
    "logging.debug('Hello, take %d', 2)"
   ]
  },
  {
   "cell_type": "markdown",
   "metadata": {},
   "source": [
    "## Log em nível depuração"
   ]
  },
  {
   "cell_type": "code",
   "execution_count": 50,
   "metadata": {},
   "outputs": [],
   "source": [
    "cleanLogging()\n",
    "logging.basicConfig(stream=sys.stdout, level=logging.DEBUG, \n",
    "                    format = '%(asctime)s -%(levelname)s - %(message)s')"
   ]
  },
  {
   "cell_type": "code",
   "execution_count": 51,
   "metadata": {},
   "outputs": [
    {
     "name": "stdout",
     "output_type": "stream",
     "text": [
      "2020-06-28 12:04:04,852 -INFO - Hello world\n"
     ]
    }
   ],
   "source": [
    "logging.info('Hello %s' , 'world')"
   ]
  },
  {
   "cell_type": "code",
   "execution_count": 52,
   "metadata": {},
   "outputs": [
    {
     "name": "stdout",
     "output_type": "stream",
     "text": [
      "2020-06-28 12:04:05,338 -DEBUG - Hello, take 2\n"
     ]
    }
   ],
   "source": [
    "logging.debug('Hello, take %d', 2)"
   ]
  },
  {
   "cell_type": "code",
   "execution_count": 49,
   "metadata": {},
   "outputs": [],
   "source": [
    "cleanLogging()"
   ]
  },
  {
   "cell_type": "markdown",
   "metadata": {},
   "source": [
    "## Tipos de logging"
   ]
  },
  {
   "cell_type": "code",
   "execution_count": 53,
   "metadata": {},
   "outputs": [],
   "source": [
    "cleanLogging()\n",
    "logging.basicConfig(stream=sys.stdout, level=logging.DEBUG, \n",
    "                    format = '%(levelname)s - %(message)s')"
   ]
  },
  {
   "cell_type": "code",
   "execution_count": 58,
   "metadata": {},
   "outputs": [
    {
     "name": "stdout",
     "output_type": "stream",
     "text": [
      "INFO - Exemplo de Info\n"
     ]
    }
   ],
   "source": [
    "logging.info('Exemplo de Info')"
   ]
  },
  {
   "cell_type": "code",
   "execution_count": 59,
   "metadata": {},
   "outputs": [
    {
     "name": "stdout",
     "output_type": "stream",
     "text": [
      "DEBUG - Exemplo de Debug\n"
     ]
    }
   ],
   "source": [
    "logging.debug('Exemplo de Debug')"
   ]
  },
  {
   "cell_type": "code",
   "execution_count": 60,
   "metadata": {},
   "outputs": [
    {
     "name": "stdout",
     "output_type": "stream",
     "text": [
      "WARNING - Exemplo de Debug\n"
     ]
    }
   ],
   "source": [
    "logging.warning('Exemplo de Warning')"
   ]
  },
  {
   "cell_type": "code",
   "execution_count": 61,
   "metadata": {},
   "outputs": [
    {
     "name": "stdout",
     "output_type": "stream",
     "text": [
      "ERROR - Exemplo de Error\n"
     ]
    }
   ],
   "source": [
    "logging.error('Exemplo de Error')"
   ]
  },
  {
   "cell_type": "markdown",
   "metadata": {},
   "source": [
    "## Simples Timer para identificar o tempo ocorrido"
   ]
  },
  {
   "cell_type": "code",
   "execution_count": 10,
   "metadata": {},
   "outputs": [],
   "source": [
    "import time\n",
    "class timer:\n",
    "    start_time = time.time()\n",
    "    step = 0\n",
    "    \n",
    "    # default constructor \n",
    "    def __init__(self): \n",
    "        self.reset()\n",
    "    \n",
    "    def elapsed(self, reset = True):\n",
    "        self.step +=1\n",
    "        print('%d. elapsed: %.1f sec ' %(self.step, time.time() - self.start_time))\n",
    "        if reset:\n",
    "            self.reset()\n",
    "            \n",
    "    def reset(self):\n",
    "        self.start_time = time.time()"
   ]
  },
  {
   "cell_type": "code",
   "execution_count": 11,
   "metadata": {},
   "outputs": [
    {
     "name": "stdout",
     "output_type": "stream",
     "text": [
      "1. elapsed: 0.0 sec \n"
     ]
    }
   ],
   "source": [
    "t=timer()\n",
    "t.elapsed()"
   ]
  },
  {
   "cell_type": "code",
   "execution_count": 12,
   "metadata": {},
   "outputs": [
    {
     "name": "stdout",
     "output_type": "stream",
     "text": [
      "2. elapsed: 0.4 sec \n"
     ]
    }
   ],
   "source": [
    "t.elapsed()"
   ]
  },
  {
   "cell_type": "code",
   "execution_count": 13,
   "metadata": {},
   "outputs": [
    {
     "name": "stdout",
     "output_type": "stream",
     "text": [
      "3. elapsed: 0.0 sec \n"
     ]
    }
   ],
   "source": [
    "t.reset()\n",
    "t.elapsed()"
   ]
  },
  {
   "cell_type": "markdown",
   "metadata": {},
   "source": [
    "## Spark"
   ]
  },
  {
   "cell_type": "code",
   "execution_count": 14,
   "metadata": {},
   "outputs": [],
   "source": [
    "from pyspark import SparkContext as sc\n",
    "from pyspark.sql import SparkSession\n",
    "from pyspark.sql import functions as F\n",
    "from pyspark import SparkFiles\n",
    "from pyspark.sql.types import StringType\n",
    "import pyspark\n",
    "spark = SparkSession\\\n",
    "        .builder\\\n",
    "        .appName(\"Estudo Spark Loggin - Fabio Kfouri\")\\\n",
    "        .getOrCreate()"
   ]
  },
  {
   "cell_type": "code",
   "execution_count": 15,
   "metadata": {},
   "outputs": [],
   "source": [
    "link = 'https://data.humdata.org/dataset/bdf7bcca-28ae-47c5-8993-c87a7c5c04c0/resource/e0281a6f-c9e8-4f0e-8005-c36e22e5b464/download/qc_consumer-price-indices_bra.csv'\n",
    "spark.sparkContext.addFile(link)"
   ]
  },
  {
   "cell_type": "code",
   "execution_count": 16,
   "metadata": {},
   "outputs": [],
   "source": [
    "df = spark.read.csv(SparkFiles.get(\"qc_consumer-price-indices_bra.csv\"), header = True, sep = \",\")"
   ]
  },
  {
   "cell_type": "code",
   "execution_count": 20,
   "metadata": {},
   "outputs": [
    {
     "name": "stdout",
     "output_type": "stream",
     "text": [
      "+-------------+---------------+----------+--------------------+\n",
      "|         Iso3|      Item Code|      Year|               Value|\n",
      "+-------------+---------------+----------+--------------------+\n",
      "|#country+code|#indicator+code|#date+year|#indicator+value+num|\n",
      "|          BRA|          23013|      2000|           48.576221|\n",
      "|          BRA|          23013|      2001|           50.027649|\n",
      "|          BRA|          23013|      2002|           54.963222|\n",
      "|          BRA|          23013|      2003|           66.506482|\n",
      "|          BRA|          23013|      2004|           70.590590|\n",
      "|          BRA|          23013|      2005|           73.247064|\n",
      "|          BRA|          23013|      2006|           74.205680|\n",
      "|          BRA|          23013|      2007|           75.669462|\n",
      "|          BRA|          23013|      2008|           84.384793|\n",
      "|          BRA|          23013|      2009|           93.040703|\n",
      "|          BRA|          23013|      2010|           96.352093|\n",
      "|          BRA|          23013|      2011|          106.392374|\n",
      "|          BRA|          23013|      2012|          113.721849|\n",
      "|          BRA|          23013|      2013|          126.345657|\n",
      "|          BRA|          23013|      2014|          135.603278|\n",
      "|          BRA|          23013|      2015|          147.423320|\n",
      "|          BRA|          23013|      2016|          166.427898|\n",
      "|          BRA|          23013|      2017|          174.994810|\n",
      "|          BRA|          23013|      2018|          174.712942|\n",
      "+-------------+---------------+----------+--------------------+\n",
      "only showing top 20 rows\n",
      "\n"
     ]
    }
   ],
   "source": [
    "df.show()"
   ]
  },
  {
   "cell_type": "code",
   "execution_count": 21,
   "metadata": {},
   "outputs": [],
   "source": [
    "cleanLogging()\n",
    "logging.basicConfig(stream=sys.stdout, level=logging.INFO, \n",
    "                    format = '%(asctime)s -%(levelname)s - %(message)s')"
   ]
  },
  {
   "cell_type": "code",
   "execution_count": 34,
   "metadata": {},
   "outputs": [
    {
     "name": "stdout",
     "output_type": "stream",
     "text": [
      "2020-06-28 11:42:58,079 -INFO - No action here.\n",
      "1. elapsed: 0.0 sec \n"
     ]
    }
   ],
   "source": [
    "t = timer()\n",
    "logging.info('No action here.')\n",
    "t.elapsed()"
   ]
  },
  {
   "cell_type": "markdown",
   "metadata": {},
   "source": [
    "Observe mesmo que o Debug não mostre o resultado, houve o consumo de CPU para contar o numero de registros do dataframe.\n",
    "\n",
    "Pode parecer insignificantes, mas a contagem de registros pode ser dispendiciosa."
   ]
  },
  {
   "cell_type": "code",
   "execution_count": 35,
   "metadata": {},
   "outputs": [
    {
     "name": "stdout",
     "output_type": "stream",
     "text": [
      "2020-06-28 11:42:58,975 -INFO - df has 476 rows.\n",
      "2. elapsed: 0.1 sec \n"
     ]
    }
   ],
   "source": [
    "t.reset()\n",
    "logging.info('df has %d rows.', df.count())\n",
    "t.elapsed()"
   ]
  },
  {
   "cell_type": "markdown",
   "metadata": {},
   "source": [
    "## Para corrigir use algo do tipo"
   ]
  },
  {
   "cell_type": "code",
   "execution_count": 36,
   "metadata": {},
   "outputs": [],
   "source": [
    "ENABLE = False"
   ]
  },
  {
   "cell_type": "code",
   "execution_count": 37,
   "metadata": {},
   "outputs": [
    {
     "name": "stdout",
     "output_type": "stream",
     "text": [
      "2020-06-28 11:43:04,726 -INFO - No action here.\n",
      "1. elapsed: 0.0 sec \n",
      "2. elapsed: 0.0 sec \n"
     ]
    }
   ],
   "source": [
    "t = timer()\n",
    "logging.info('No action here.')\n",
    "t.elapsed()\n",
    "if ENABLE:\n",
    "    logging.info('df has %d rows.', df.count())\n",
    "t.elapsed()"
   ]
  },
  {
   "cell_type": "code",
   "execution_count": null,
   "metadata": {},
   "outputs": [],
   "source": []
  }
 ],
 "metadata": {
  "kernelspec": {
   "display_name": "Python 3",
   "language": "python",
   "name": "python3"
  },
  "language_info": {
   "codemirror_mode": {
    "name": "ipython",
    "version": 3
   },
   "file_extension": ".py",
   "mimetype": "text/x-python",
   "name": "python",
   "nbconvert_exporter": "python",
   "pygments_lexer": "ipython3",
   "version": "3.7.4"
  }
 },
 "nbformat": 4,
 "nbformat_minor": 2
}
