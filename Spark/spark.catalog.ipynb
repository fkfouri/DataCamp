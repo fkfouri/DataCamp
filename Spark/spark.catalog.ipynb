{
 "cells": [
  {
   "cell_type": "code",
   "execution_count": 94,
   "metadata": {},
   "outputs": [],
   "source": [
    "try:\n",
    "    !pip install pyspark==\"2.4.5\"  --quiet\n",
    "except:\n",
    " print(\"Running throw py file.\")"
   ]
  },
  {
   "cell_type": "code",
   "execution_count": 75,
   "metadata": {},
   "outputs": [],
   "source": [
    "from pyspark import SparkContext as sc\n",
    "from pyspark.sql import SparkSession\n",
    "from pyspark.sql import functions as F\n",
    "from pyspark import SparkFiles\n",
    "from pyspark.sql.types import StringType\n",
    "import pyspark"
   ]
  },
  {
   "cell_type": "code",
   "execution_count": 5,
   "metadata": {},
   "outputs": [],
   "source": [
    "spark = SparkSession\\\n",
    "        .builder\\\n",
    "        .appName(\"Estudo Spark UI - Fabio Kfouri\")\\\n",
    "        .getOrCreate()"
   ]
  },
  {
   "cell_type": "markdown",
   "metadata": {},
   "source": [
    "## Leitura de dados usando uma fonte pública"
   ]
  },
  {
   "cell_type": "markdown",
   "metadata": {},
   "source": [
    "Fonte de Dados:\n",
    "\n",
    "https://data.humdata.org/dataset/faostat-prices-for-brazil"
   ]
  },
  {
   "cell_type": "code",
   "execution_count": 6,
   "metadata": {},
   "outputs": [],
   "source": [
    "spark.sparkContext.addFile('https://data.humdata.org/dataset/bdf7bcca-28ae-47c5-8993-c87a7c5c04c0/resource/c16c15f5-efaf-4950-b848-94935987d312/download/producer-prices_bra.csv')"
   ]
  },
  {
   "cell_type": "code",
   "execution_count": 64,
   "metadata": {},
   "outputs": [],
   "source": [
    "df = spark.read.csv(SparkFiles.get(\"producer-prices_bra.csv\"), header = True, sep = \",\")"
   ]
  },
  {
   "cell_type": "code",
   "execution_count": 65,
   "metadata": {},
   "outputs": [
    {
     "name": "stdout",
     "output_type": "stream",
     "text": [
      "+-------------+-----------+----------+---------+-------------+---------------+---------------+------------+--------------------+---------+----------+-----------+------------+---------------+--------------------+----+\n",
      "|         Iso3|  StartDate|   EndDate|Area Code|         Area|      Item Code|           Item|Element Code|             Element|Year Code|      Year|Months Code|      Months|           Unit|               Value|Flag|\n",
      "+-------------+-----------+----------+---------+-------------+---------------+---------------+------------+--------------------+---------+----------+-----------+------------+---------------+--------------------+----+\n",
      "|#country+code|#date+start| #date+end|     null|#country+name|#indicator+code|#indicator+name|        null|                null|     null|#date+year|       null|        null|#indicator+type|#indicator+value+num|null|\n",
      "|          BRA| 1991-01-01|1991-12-31|       21|       Brazil|            515|         Apples|        5530|Producer Price (L...|     1991|      1991|       7021|Annual value|            LCU|       105691.000000|   *|\n",
      "|          BRA| 1992-01-01|1992-12-31|       21|       Brazil|            515|         Apples|        5530|Producer Price (L...|     1992|      1992|       7021|Annual value|            LCU|      1969620.000000|   *|\n",
      "|          BRA| 1993-01-01|1993-12-31|       21|       Brazil|            515|         Apples|        5530|Producer Price (L...|     1993|      1993|       7021|Annual value|            LCU|        26770.000000|   *|\n",
      "|          BRA| 1994-01-01|1994-12-31|       21|       Brazil|            515|         Apples|        5530|Producer Price (L...|     1994|      1994|       7021|Annual value|            LCU|          258.000000|   *|\n",
      "+-------------+-----------+----------+---------+-------------+---------------+---------------+------------+--------------------+---------+----------+-----------+------------+---------------+--------------------+----+\n",
      "only showing top 5 rows\n",
      "\n"
     ]
    }
   ],
   "source": [
    "df.show(5)"
   ]
  },
  {
   "cell_type": "code",
   "execution_count": 89,
   "metadata": {},
   "outputs": [
    {
     "data": {
      "text/plain": [
       "DataFrame[summary: string, Iso3: string, StartDate: string, EndDate: string, Area Code: string, Area: string, Item Code: string, Item: string, Element Code: string, Element: string, Year Code: string, Year: string, Months Code: string, Months: string, Unit: string, Value: string, Flag: string]"
      ]
     },
     "execution_count": 89,
     "metadata": {},
     "output_type": "execute_result"
    }
   ],
   "source": [
    "df.describe()"
   ]
  },
  {
   "cell_type": "code",
   "execution_count": 90,
   "metadata": {},
   "outputs": [
    {
     "name": "stdout",
     "output_type": "stream",
     "text": [
      "root\n",
      " |-- Iso3: string (nullable = true)\n",
      " |-- StartDate: string (nullable = true)\n",
      " |-- EndDate: string (nullable = true)\n",
      " |-- Area Code: string (nullable = true)\n",
      " |-- Area: string (nullable = true)\n",
      " |-- Item Code: string (nullable = true)\n",
      " |-- Item: string (nullable = true)\n",
      " |-- Element Code: string (nullable = true)\n",
      " |-- Element: string (nullable = true)\n",
      " |-- Year Code: string (nullable = true)\n",
      " |-- Year: string (nullable = true)\n",
      " |-- Months Code: string (nullable = true)\n",
      " |-- Months: string (nullable = true)\n",
      " |-- Unit: string (nullable = true)\n",
      " |-- Value: string (nullable = true)\n",
      " |-- Flag: string (nullable = true)\n",
      "\n"
     ]
    }
   ],
   "source": [
    "df.printSchema()"
   ]
  },
  {
   "cell_type": "code",
   "execution_count": 91,
   "metadata": {},
   "outputs": [],
   "source": [
    "#df =\n",
    "df = df.filter(\"Iso3 <> '#country+code'\")\\\n",
    "    .withColumn('Value',df[\"Value\"].cast('float'))\\\n",
    "    .withColumn('StartDate', F.to_date('StartDate', 'yyyy-MM-dd'))\\\n",
    "    .withColumn('EndDate', F.to_date('EndDate', 'yyyy-MM-dd'))"
   ]
  },
  {
   "cell_type": "code",
   "execution_count": 92,
   "metadata": {},
   "outputs": [
    {
     "name": "stdout",
     "output_type": "stream",
     "text": [
      "+----+----------+----------+---------+------+---------+------+------------+--------------------------+---------+----+-----------+------------+----+---------+----+\n",
      "|Iso3|StartDate |EndDate   |Area Code|Area  |Item Code|Item  |Element Code|Element                   |Year Code|Year|Months Code|Months      |Unit|Value    |Flag|\n",
      "+----+----------+----------+---------+------+---------+------+------------+--------------------------+---------+----+-----------+------------+----+---------+----+\n",
      "|BRA |1991-01-01|1991-12-31|21       |Brazil|515      |Apples|5530        |Producer Price (LCU/tonne)|1991     |1991|7021       |Annual value|LCU |105691.0 |*   |\n",
      "|BRA |1992-01-01|1992-12-31|21       |Brazil|515      |Apples|5530        |Producer Price (LCU/tonne)|1992     |1992|7021       |Annual value|LCU |1969620.0|*   |\n",
      "|BRA |1993-01-01|1993-12-31|21       |Brazil|515      |Apples|5530        |Producer Price (LCU/tonne)|1993     |1993|7021       |Annual value|LCU |26770.0  |*   |\n",
      "|BRA |1994-01-01|1994-12-31|21       |Brazil|515      |Apples|5530        |Producer Price (LCU/tonne)|1994     |1994|7021       |Annual value|LCU |258.0    |*   |\n",
      "|BRA |1995-01-01|1995-12-31|21       |Brazil|515      |Apples|5530        |Producer Price (LCU/tonne)|1995     |1995|7021       |Annual value|LCU |395.0    |*   |\n",
      "+----+----------+----------+---------+------+---------+------+------------+--------------------------+---------+----+-----------+------------+----+---------+----+\n",
      "only showing top 5 rows\n",
      "\n"
     ]
    }
   ],
   "source": [
    "df.show(5, False)"
   ]
  },
  {
   "cell_type": "code",
   "execution_count": 93,
   "metadata": {},
   "outputs": [
    {
     "name": "stdout",
     "output_type": "stream",
     "text": [
      "root\n",
      " |-- Iso3: string (nullable = true)\n",
      " |-- StartDate: date (nullable = true)\n",
      " |-- EndDate: date (nullable = true)\n",
      " |-- Area Code: string (nullable = true)\n",
      " |-- Area: string (nullable = true)\n",
      " |-- Item Code: string (nullable = true)\n",
      " |-- Item: string (nullable = true)\n",
      " |-- Element Code: string (nullable = true)\n",
      " |-- Element: string (nullable = true)\n",
      " |-- Year Code: string (nullable = true)\n",
      " |-- Year: string (nullable = true)\n",
      " |-- Months Code: string (nullable = true)\n",
      " |-- Months: string (nullable = true)\n",
      " |-- Unit: string (nullable = true)\n",
      " |-- Value: float (nullable = true)\n",
      " |-- Flag: string (nullable = true)\n",
      "\n"
     ]
    }
   ],
   "source": [
    "df.printSchema()"
   ]
  },
  {
   "cell_type": "code",
   "execution_count": null,
   "metadata": {},
   "outputs": [],
   "source": []
  },
  {
   "cell_type": "markdown",
   "metadata": {},
   "source": [
    "## Spark Catalog"
   ]
  },
  {
   "cell_type": "code",
   "execution_count": 23,
   "metadata": {},
   "outputs": [
    {
     "data": {
      "text/plain": [
       "[]"
      ]
     },
     "execution_count": 23,
     "metadata": {},
     "output_type": "execute_result"
    }
   ],
   "source": [
    "spark.catalog.listTables()"
   ]
  },
  {
   "cell_type": "markdown",
   "metadata": {},
   "source": [
    "Cria View e exibe todas as listas"
   ]
  },
  {
   "cell_type": "code",
   "execution_count": 37,
   "metadata": {},
   "outputs": [
    {
     "data": {
      "text/plain": [
       "[Table(name='temp', database=None, description=None, tableType='TEMPORARY', isTemporary=True)]"
      ]
     },
     "execution_count": 37,
     "metadata": {},
     "output_type": "execute_result"
    }
   ],
   "source": [
    "df.createOrReplaceTempView(\"temp\")\n",
    "spark.catalog.listTables()"
   ]
  },
  {
   "cell_type": "code",
   "execution_count": 38,
   "metadata": {},
   "outputs": [
    {
     "data": {
      "text/plain": [
       "[Table(name='temp', database=None, description=None, tableType='TEMPORARY', isTemporary=True)]"
      ]
     },
     "execution_count": 38,
     "metadata": {},
     "output_type": "execute_result"
    }
   ],
   "source": [
    "spark.catalog.listTables()"
   ]
  },
  {
   "cell_type": "markdown",
   "metadata": {},
   "source": [
    "Verifica se a tabela/view esta em cache"
   ]
  },
  {
   "cell_type": "code",
   "execution_count": 39,
   "metadata": {},
   "outputs": [
    {
     "data": {
      "text/plain": [
       "False"
      ]
     },
     "execution_count": 39,
     "metadata": {},
     "output_type": "execute_result"
    }
   ],
   "source": [
    "spark.catalog.isCached('temp')"
   ]
  },
  {
   "cell_type": "markdown",
   "metadata": {},
   "source": [
    "Cria cache"
   ]
  },
  {
   "cell_type": "code",
   "execution_count": 40,
   "metadata": {},
   "outputs": [
    {
     "data": {
      "text/plain": [
       "True"
      ]
     },
     "execution_count": 40,
     "metadata": {},
     "output_type": "execute_result"
    }
   ],
   "source": [
    "spark.catalog.cacheTable('temp')\n",
    "spark.catalog.isCached('temp')"
   ]
  },
  {
   "cell_type": "markdown",
   "metadata": {},
   "source": [
    "Remove o Cache"
   ]
  },
  {
   "cell_type": "code",
   "execution_count": 41,
   "metadata": {},
   "outputs": [
    {
     "data": {
      "text/plain": [
       "False"
      ]
     },
     "execution_count": 41,
     "metadata": {},
     "output_type": "execute_result"
    }
   ],
   "source": [
    "spark.catalog.uncacheTable('temp')\n",
    "spark.catalog.isCached('temp')"
   ]
  },
  {
   "cell_type": "markdown",
   "metadata": {},
   "source": [
    "Limpa todos os caches"
   ]
  },
  {
   "cell_type": "code",
   "execution_count": 42,
   "metadata": {},
   "outputs": [
    {
     "data": {
      "text/plain": [
       "False"
      ]
     },
     "execution_count": 42,
     "metadata": {},
     "output_type": "execute_result"
    }
   ],
   "source": [
    "spark.catalog.cacheTable('temp')\n",
    "spark.catalog.clearCache()\n",
    "spark.catalog.isCached('temp')"
   ]
  },
  {
   "cell_type": "markdown",
   "metadata": {},
   "source": [
    "Remove a View temp e exibe as existentes  "
   ]
  },
  {
   "cell_type": "code",
   "execution_count": 45,
   "metadata": {},
   "outputs": [
    {
     "data": {
      "text/plain": [
       "[]"
      ]
     },
     "execution_count": 45,
     "metadata": {},
     "output_type": "execute_result"
    }
   ],
   "source": [
    "spark.catalog.dropTempView('temp')\n",
    "spark.catalog.listTables()"
   ]
  },
  {
   "cell_type": "code",
   "execution_count": null,
   "metadata": {},
   "outputs": [],
   "source": []
  }
 ],
 "metadata": {
  "kernelspec": {
   "display_name": "Python 3",
   "language": "python",
   "name": "python3"
  },
  "language_info": {
   "codemirror_mode": {
    "name": "ipython",
    "version": 3
   },
   "file_extension": ".py",
   "mimetype": "text/x-python",
   "name": "python",
   "nbconvert_exporter": "python",
   "pygments_lexer": "ipython3",
   "version": "3.7.4"
  }
 },
 "nbformat": 4,
 "nbformat_minor": 2
}
