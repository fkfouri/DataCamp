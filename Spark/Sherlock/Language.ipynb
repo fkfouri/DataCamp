{
 "cells": [
  {
   "cell_type": "code",
   "execution_count": null,
   "metadata": {},
   "outputs": [],
   "source": []
  },
  {
   "cell_type": "code",
   "execution_count": 1,
   "metadata": {},
   "outputs": [],
   "source": [
    "try:\n",
    "    !pip install pyspark==\"2.4.5\"  --quiet\n",
    "except:\n",
    "    print(\"Running throw py file.\")"
   ]
  },
  {
   "cell_type": "code",
   "execution_count": 27,
   "metadata": {},
   "outputs": [],
   "source": [
    "from pyspark.sql import SparkSession\n",
    "from pyspark.sql import functions as F\n",
    "from pyspark.sql.functions import lower, col\n",
    "import pandas as pd\n",
    "import os"
   ]
  },
  {
   "cell_type": "markdown",
   "metadata": {},
   "source": [
    "# Criando a session Spark"
   ]
  },
  {
   "cell_type": "code",
   "execution_count": 3,
   "metadata": {},
   "outputs": [],
   "source": [
    "spark = SparkSession\\\n",
    "        .builder\\\n",
    "        .appName(\"Analise Sherlock homes - Fabio Kfouri\")\\\n",
    "        .getOrCreate()"
   ]
  },
  {
   "cell_type": "code",
   "execution_count": 4,
   "metadata": {},
   "outputs": [
    {
     "data": {
      "text/html": [
       "\n",
       "            <div>\n",
       "                <p><b>SparkSession - in-memory</b></p>\n",
       "                \n",
       "        <div>\n",
       "            <p><b>SparkContext</b></p>\n",
       "\n",
       "            <p><a href=\"http://LAPTOP-Y520:4040\">Spark UI</a></p>\n",
       "\n",
       "            <dl>\n",
       "              <dt>Version</dt>\n",
       "                <dd><code>v2.4.5</code></dd>\n",
       "              <dt>Master</dt>\n",
       "                <dd><code>local[*]</code></dd>\n",
       "              <dt>AppName</dt>\n",
       "                <dd><code>Analise Sherlock homes - Fabio Kfouri</code></dd>\n",
       "            </dl>\n",
       "        </div>\n",
       "        \n",
       "            </div>\n",
       "        "
      ],
      "text/plain": [
       "<pyspark.sql.session.SparkSession at 0x1bcda2daa48>"
      ]
     },
     "execution_count": 4,
     "metadata": {},
     "output_type": "execute_result"
    }
   ],
   "source": [
    "spark"
   ]
  },
  {
   "cell_type": "code",
   "execution_count": 43,
   "metadata": {},
   "outputs": [],
   "source": [
    "#read book\n",
    "df = spark.read.text(\"sherlock.txt\")"
   ]
  },
  {
   "cell_type": "markdown",
   "metadata": {},
   "source": [
    "Leitura da primeira linha da obra"
   ]
  },
  {
   "cell_type": "code",
   "execution_count": 44,
   "metadata": {},
   "outputs": [
    {
     "name": "stdout",
     "output_type": "stream",
     "text": [
      "Row(value=\"Project Gutenberg's The Adventures of Sherlock Holmes, by Arthur Conan Doyle\")\n"
     ]
    }
   ],
   "source": [
    "print(df.first())"
   ]
  },
  {
   "cell_type": "markdown",
   "metadata": {},
   "source": [
    "Quantidade de linhas"
   ]
  },
  {
   "cell_type": "code",
   "execution_count": 45,
   "metadata": {},
   "outputs": [
    {
     "name": "stdout",
     "output_type": "stream",
     "text": [
      "12309\n"
     ]
    }
   ],
   "source": [
    "print(df.count())"
   ]
  },
  {
   "cell_type": "markdown",
   "metadata": {},
   "source": [
    "Visualizando um trecho da obra. Truncate setado como false permite a visualização de textos mais longos"
   ]
  },
  {
   "cell_type": "code",
   "execution_count": 46,
   "metadata": {},
   "outputs": [
    {
     "name": "stdout",
     "output_type": "stream",
     "text": [
      "+----------------------------------------------------------------------------+\n",
      "|value                                                                       |\n",
      "+----------------------------------------------------------------------------+\n",
      "|Project Gutenberg's The Adventures of Sherlock Holmes, by Arthur Conan Doyle|\n",
      "|                                                                            |\n",
      "|This eBook is for the use of anyone anywhere at no cost and with            |\n",
      "|almost no restrictions whatsoever.  You may copy it, give it away or        |\n",
      "|re-use it under the terms of the Project Gutenberg License included         |\n",
      "|with this eBook or online at www.gutenberg.net                              |\n",
      "|                                                                            |\n",
      "|                                                                            |\n",
      "|Title: The Adventures of Sherlock Holmes                                    |\n",
      "|                                                                            |\n",
      "|Author: Arthur Conan Doyle                                                  |\n",
      "|                                                                            |\n",
      "|Release Date: November 29, 2002 [EBook #1661]                               |\n",
      "|Last Updated: May 20, 2019                                                  |\n",
      "|                                                                            |\n",
      "+----------------------------------------------------------------------------+\n",
      "only showing top 15 rows\n",
      "\n"
     ]
    }
   ],
   "source": [
    "df.show(15, truncate = False)"
   ]
  },
  {
   "cell_type": "markdown",
   "metadata": {},
   "source": [
    "Transformando em LowerCase e definido um Alias"
   ]
  },
  {
   "cell_type": "code",
   "execution_count": 47,
   "metadata": {},
   "outputs": [
    {
     "name": "stdout",
     "output_type": "stream",
     "text": [
      "+----------------------------------------------------------------------------+\n",
      "|value                                                                       |\n",
      "+----------------------------------------------------------------------------+\n",
      "|project gutenberg's the adventures of sherlock holmes, by arthur conan doyle|\n",
      "|                                                                            |\n",
      "|this ebook is for the use of anyone anywhere at no cost and with            |\n",
      "|almost no restrictions whatsoever.  you may copy it, give it away or        |\n",
      "|re-use it under the terms of the project gutenberg license included         |\n",
      "|with this ebook or online at www.gutenberg.net                              |\n",
      "|                                                                            |\n",
      "|                                                                            |\n",
      "|title: the adventures of sherlock holmes                                    |\n",
      "|                                                                            |\n",
      "|author: arthur conan doyle                                                  |\n",
      "|                                                                            |\n",
      "|release date: november 29, 2002 [ebook #1661]                               |\n",
      "|last updated: may 20, 2019                                                  |\n",
      "|                                                                            |\n",
      "+----------------------------------------------------------------------------+\n",
      "only showing top 15 rows\n",
      "\n"
     ]
    }
   ],
   "source": [
    "df = df.select(lower(col('value')).alias('value'))\n",
    "df.show(15, truncate = False)"
   ]
  },
  {
   "cell_type": "markdown",
   "metadata": {},
   "source": [
    "Replacing de textos e termos"
   ]
  },
  {
   "cell_type": "code",
   "execution_count": 48,
   "metadata": {},
   "outputs": [],
   "source": [
    "df = df.select(F.regexp_replace('value', 'Mr\\.', 'Mr').alias('value'))\n",
    "df = df.select(F.regexp_replace('value', 'don\\'t', 'do not').alias('value'))\n",
    "#df = df.select(F.regexp_replace('value', '\\'s', 'do not').alias('value'))"
   ]
  },
  {
   "cell_type": "markdown",
   "metadata": {},
   "source": [
    "Tokenizing Text, retorna uma matriz de sequencias de caracteres"
   ]
  },
  {
   "cell_type": "code",
   "execution_count": 55,
   "metadata": {},
   "outputs": [
    {
     "name": "stdout",
     "output_type": "stream",
     "text": [
      "+---------------------------------------------------------------------------------------------+\n",
      "|words                                                                                        |\n",
      "+---------------------------------------------------------------------------------------------+\n",
      "|[project, gutenberg's, the, adventures, of, sherlock, holmes,, by, arthur, conan, doyle]     |\n",
      "|[]                                                                                           |\n",
      "|[this, ebook, is, for, the, use, of, anyone, anywhere, at, no, cost, and, with]              |\n",
      "|[almost, no, restrictions, whatsoever., , you, may, copy, it,, give, it, away, or]           |\n",
      "|[re-use, it, under, the, terms, of, the, project, gutenberg, license, included]              |\n",
      "|[with, this, ebook, or, online, at, www.gutenberg.net]                                       |\n",
      "|[]                                                                                           |\n",
      "|[]                                                                                           |\n",
      "|[title:, the, adventures, of, sherlock, holmes]                                              |\n",
      "|[]                                                                                           |\n",
      "|[author:, arthur, conan, doyle]                                                              |\n",
      "|[]                                                                                           |\n",
      "|[release, date:, november, 29,, 2002, [ebook, #1661]]                                        |\n",
      "|[last, updated:, may, 20,, 2019]                                                             |\n",
      "|[]                                                                                           |\n",
      "|[language:, english]                                                                         |\n",
      "|[]                                                                                           |\n",
      "|[character, set, encoding:, utf-8]                                                           |\n",
      "|[]                                                                                           |\n",
      "|[***, start, of, this, project, gutenberg, ebook, the, adventures, of, sherlock, holmes, ***]|\n",
      "+---------------------------------------------------------------------------------------------+\n",
      "only showing top 20 rows\n",
      "\n"
     ]
    }
   ],
   "source": [
    "df1= df.select(F.split('Value', '[ ]').alias('words'))\n",
    "df1.show(truncate=False)"
   ]
  },
  {
   "cell_type": "markdown",
   "metadata": {},
   "source": [
    "Divide o texto e remove simbolos indesejados"
   ]
  },
  {
   "cell_type": "code",
   "execution_count": 56,
   "metadata": {},
   "outputs": [
    {
     "name": "stdout",
     "output_type": "stream",
     "text": [
      "+---------------------------------------------------------------------------------------------------+\n",
      "|words                                                                                              |\n",
      "+---------------------------------------------------------------------------------------------------+\n",
      "|[project, gutenberg, s, the, adventures, of, sherlock, holmes, , by, arthur, conan, doyle]         |\n",
      "|[]                                                                                                 |\n",
      "|[this, ebook, is, for, the, use, of, anyone, anywhere, at, no, cost, and, with]                    |\n",
      "|[almost, no, restrictions, whatsoever, , , you, may, copy, it, , give, it, away, or]               |\n",
      "|[re-use, it, under, the, terms, of, the, project, gutenberg, license, included]                    |\n",
      "|[with, this, ebook, or, online, at, www, gutenberg, net]                                           |\n",
      "|[]                                                                                                 |\n",
      "|[]                                                                                                 |\n",
      "|[title, , the, adventures, of, sherlock, holmes]                                                   |\n",
      "|[]                                                                                                 |\n",
      "|[author, , arthur, conan, doyle]                                                                   |\n",
      "|[]                                                                                                 |\n",
      "|[release, date, , november, 29, , 2002, , ebook, #1661, ]                                          |\n",
      "|[last, updated, , may, 20, , 2019]                                                                 |\n",
      "|[]                                                                                                 |\n",
      "|[language, , english]                                                                              |\n",
      "|[]                                                                                                 |\n",
      "|[character, set, encoding, , utf-8]                                                                |\n",
      "|[]                                                                                                 |\n",
      "|[, , , , start, of, this, project, gutenberg, ebook, the, adventures, of, sherlock, holmes, , , , ]|\n",
      "+---------------------------------------------------------------------------------------------------+\n",
      "only showing top 20 rows\n",
      "\n"
     ]
    }
   ],
   "source": [
    "punctuation = \"_|.\\?\\!\\\",\\'\\[\\]\\*():;<>\"\n",
    "df2 = df.select(F.split('value', '[ %s]' % punctuation).alias('words'))\n",
    "df2.show(truncate=False)"
   ]
  },
  {
   "cell_type": "markdown",
   "metadata": {},
   "source": [
    "Explodindo em Array o campo words"
   ]
  },
  {
   "cell_type": "code",
   "execution_count": 57,
   "metadata": {},
   "outputs": [
    {
     "name": "stdout",
     "output_type": "stream",
     "text": [
      "+----------+\n",
      "|      word|\n",
      "+----------+\n",
      "|   project|\n",
      "| gutenberg|\n",
      "|         s|\n",
      "|       the|\n",
      "|adventures|\n",
      "|        of|\n",
      "|  sherlock|\n",
      "|    holmes|\n",
      "|          |\n",
      "|        by|\n",
      "|    arthur|\n",
      "|     conan|\n",
      "|     doyle|\n",
      "|          |\n",
      "|      this|\n",
      "|     ebook|\n",
      "|        is|\n",
      "|       for|\n",
      "|       the|\n",
      "|       use|\n",
      "+----------+\n",
      "only showing top 20 rows\n",
      "\n"
     ]
    }
   ],
   "source": [
    "df3 = df2.select(F.explode('words').alias('word'))\n",
    "df3.show()"
   ]
  },
  {
   "cell_type": "markdown",
   "metadata": {},
   "source": [
    "Tamanho de comparacao entre os dataframes"
   ]
  },
  {
   "cell_type": "code",
   "execution_count": 58,
   "metadata": {},
   "outputs": [
    {
     "name": "stdout",
     "output_type": "stream",
     "text": [
      "12309 126580\n"
     ]
    }
   ],
   "source": [
    "print(df.count(), df3.count())"
   ]
  },
  {
   "cell_type": "markdown",
   "metadata": {},
   "source": [
    "Removendo colunas vazias (empty)"
   ]
  },
  {
   "cell_type": "code",
   "execution_count": 59,
   "metadata": {},
   "outputs": [
    {
     "name": "stdout",
     "output_type": "stream",
     "text": [
      "126580 110448\n"
     ]
    }
   ],
   "source": [
    "noblank_df = df3.where(F.length('word') > 0)\n",
    "print(df3.count(), noblank_df.count())"
   ]
  },
  {
   "cell_type": "markdown",
   "metadata": {},
   "source": [
    "Adicionando um ID no dataset"
   ]
  },
  {
   "cell_type": "code",
   "execution_count": 61,
   "metadata": {},
   "outputs": [
    {
     "name": "stdout",
     "output_type": "stream",
     "text": [
      "+----------+---+\n",
      "|      word| id|\n",
      "+----------+---+\n",
      "|   project|  0|\n",
      "| gutenberg|  1|\n",
      "|         s|  2|\n",
      "|       the|  3|\n",
      "|adventures|  4|\n",
      "|        of|  5|\n",
      "|  sherlock|  6|\n",
      "|    holmes|  7|\n",
      "|        by|  8|\n",
      "|    arthur|  9|\n",
      "|     conan| 10|\n",
      "|     doyle| 11|\n",
      "|      this| 12|\n",
      "|     ebook| 13|\n",
      "|        is| 14|\n",
      "|       for| 15|\n",
      "|       the| 16|\n",
      "|       use| 17|\n",
      "|        of| 18|\n",
      "|    anyone| 19|\n",
      "+----------+---+\n",
      "only showing top 20 rows\n",
      "\n"
     ]
    }
   ],
   "source": [
    "df4 = noblank_df.select('word', F.monotonically_increasing_id().alias('id'))\n",
    "df4.show()"
   ]
  },
  {
   "cell_type": "markdown",
   "metadata": {},
   "source": [
    "### Particionando os dados"
   ]
  },
  {
   "cell_type": "code",
   "execution_count": 80,
   "metadata": {},
   "outputs": [],
   "source": [
    "df5 = df4.withColumn('title', F.when(df4.id < 25000, 'Preface')\n",
    "                             .when(df4.id < 25000, 'Chapter 1')\n",
    "                             .when(df4.id < 25000, 'Chapter 2')\n",
    "                             .otherwise('Chapter 3'))"
   ]
  },
  {
   "cell_type": "code",
   "execution_count": 81,
   "metadata": {},
   "outputs": [
    {
     "name": "stdout",
     "output_type": "stream",
     "text": [
      "+----------+---+-------+\n",
      "|      word| id|  title|\n",
      "+----------+---+-------+\n",
      "|   project|  0|Preface|\n",
      "| gutenberg|  1|Preface|\n",
      "|         s|  2|Preface|\n",
      "|       the|  3|Preface|\n",
      "|adventures|  4|Preface|\n",
      "|        of|  5|Preface|\n",
      "|  sherlock|  6|Preface|\n",
      "|    holmes|  7|Preface|\n",
      "|        by|  8|Preface|\n",
      "|    arthur|  9|Preface|\n",
      "|     conan| 10|Preface|\n",
      "|     doyle| 11|Preface|\n",
      "|      this| 12|Preface|\n",
      "|     ebook| 13|Preface|\n",
      "|        is| 14|Preface|\n",
      "|       for| 15|Preface|\n",
      "|       the| 16|Preface|\n",
      "|       use| 17|Preface|\n",
      "|        of| 18|Preface|\n",
      "|    anyone| 19|Preface|\n",
      "+----------+---+-------+\n",
      "only showing top 20 rows\n",
      "\n"
     ]
    }
   ],
   "source": [
    "df5.show()"
   ]
  },
  {
   "cell_type": "markdown",
   "metadata": {},
   "source": [
    "Colocando uma nova coluna chamada part"
   ]
  },
  {
   "cell_type": "code",
   "execution_count": 82,
   "metadata": {},
   "outputs": [],
   "source": [
    "df5 = df5.withColumn('part', F.when(df5.id < 25000, 0)\n",
    "                             .when(df5.id < 25000, 1)\n",
    "                             .when(df5.id < 25000, 2)\n",
    "                             .otherwise(3))"
   ]
  },
  {
   "cell_type": "code",
   "execution_count": 83,
   "metadata": {},
   "outputs": [
    {
     "name": "stdout",
     "output_type": "stream",
     "text": [
      "+----------+---+-------+----+\n",
      "|      word| id|  title|part|\n",
      "+----------+---+-------+----+\n",
      "|   project|  0|Preface|   0|\n",
      "| gutenberg|  1|Preface|   0|\n",
      "|         s|  2|Preface|   0|\n",
      "|       the|  3|Preface|   0|\n",
      "|adventures|  4|Preface|   0|\n",
      "|        of|  5|Preface|   0|\n",
      "|  sherlock|  6|Preface|   0|\n",
      "|    holmes|  7|Preface|   0|\n",
      "|        by|  8|Preface|   0|\n",
      "|    arthur|  9|Preface|   0|\n",
      "|     conan| 10|Preface|   0|\n",
      "|     doyle| 11|Preface|   0|\n",
      "|      this| 12|Preface|   0|\n",
      "|     ebook| 13|Preface|   0|\n",
      "|        is| 14|Preface|   0|\n",
      "|       for| 15|Preface|   0|\n",
      "|       the| 16|Preface|   0|\n",
      "|       use| 17|Preface|   0|\n",
      "|        of| 18|Preface|   0|\n",
      "|    anyone| 19|Preface|   0|\n",
      "+----------+---+-------+----+\n",
      "only showing top 20 rows\n",
      "\n"
     ]
    }
   ],
   "source": [
    "df5.show()"
   ]
  },
  {
   "cell_type": "markdown",
   "metadata": {},
   "source": [
    "Reparticionando baseado em uma coluna"
   ]
  },
  {
   "cell_type": "code",
   "execution_count": 93,
   "metadata": {},
   "outputs": [
    {
     "name": "stdout",
     "output_type": "stream",
     "text": [
      "1 4\n"
     ]
    }
   ],
   "source": [
    "df6 = df5.repartition(4, 'part')\n",
    "print(df5.rdd.getNumPartitions(), df6.rdd.getNumPartitions(), )"
   ]
  },
  {
   "cell_type": "code",
   "execution_count": 90,
   "metadata": {},
   "outputs": [
    {
     "name": "stdout",
     "output_type": "stream",
     "text": [
      "+----------+---+-------+----+\n",
      "|      word| id|  title|part|\n",
      "+----------+---+-------+----+\n",
      "|   project|  0|Preface|   0|\n",
      "| gutenberg|  1|Preface|   0|\n",
      "|         s|  2|Preface|   0|\n",
      "|       the|  3|Preface|   0|\n",
      "|adventures|  4|Preface|   0|\n",
      "|        of|  5|Preface|   0|\n",
      "|  sherlock|  6|Preface|   0|\n",
      "|    holmes|  7|Preface|   0|\n",
      "|        by|  8|Preface|   0|\n",
      "|    arthur|  9|Preface|   0|\n",
      "|     conan| 10|Preface|   0|\n",
      "|     doyle| 11|Preface|   0|\n",
      "|      this| 12|Preface|   0|\n",
      "|     ebook| 13|Preface|   0|\n",
      "|        is| 14|Preface|   0|\n",
      "|       for| 15|Preface|   0|\n",
      "|       the| 16|Preface|   0|\n",
      "|       use| 17|Preface|   0|\n",
      "|        of| 18|Preface|   0|\n",
      "|    anyone| 19|Preface|   0|\n",
      "+----------+---+-------+----+\n",
      "only showing top 20 rows\n",
      "\n"
     ]
    }
   ],
   "source": [
    "df6.show()"
   ]
  },
  {
   "cell_type": "code",
   "execution_count": 97,
   "metadata": {},
   "outputs": [],
   "source": [
    "df6.coalesce(1).write.csv('spark_output/df6')"
   ]
  },
  {
   "cell_type": "code",
   "execution_count": null,
   "metadata": {},
   "outputs": [],
   "source": []
  }
 ],
 "metadata": {
  "kernelspec": {
   "display_name": "Python 3",
   "language": "python",
   "name": "python3"
  },
  "language_info": {
   "codemirror_mode": {
    "name": "ipython",
    "version": 3
   },
   "file_extension": ".py",
   "mimetype": "text/x-python",
   "name": "python",
   "nbconvert_exporter": "python",
   "pygments_lexer": "ipython3",
   "version": "3.7.4"
  }
 },
 "nbformat": 4,
 "nbformat_minor": 2
}
